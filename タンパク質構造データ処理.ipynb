{
 "cells": [
  {
   "cell_type": "code",
   "execution_count": 33,
   "metadata": {},
   "outputs": [],
   "source": [
    "from Bio.PDB import parse_pdb_header\n",
    "from Bio.PDB import PDBParser\n",
    "import numpy as np"
   ]
  },
  {
   "cell_type": "code",
   "execution_count": 34,
   "metadata": {},
   "outputs": [],
   "source": [
    "data_root = \"./datasets/\""
   ]
  },
  {
   "cell_type": "code",
   "execution_count": 39,
   "metadata": {},
   "outputs": [],
   "source": [
    "def Radius_of_Gyration(file,chain):\n",
    "    handle =  open(file, \"r\")\n",
    "    name = parse_pdb_header(handle)[\"name\"]\n",
    "    handle.close()\n",
    "    parser = PDBParser()\n",
    "    \n",
    "    chains = parser.get_structure(name,file).get_chains()\n",
    "    temp = 0\n",
    "    x = []\n",
    "    y = []\n",
    "    z = []\n",
    "    rg_c = []\n",
    "    for chain in chains:\n",
    "        atoms = chain.get_atoms()\n",
    "        temp_c = 0\n",
    "        x_c = []\n",
    "        y_c = []\n",
    "        z_c = []\n",
    "        number = 0\n",
    "        for atom in atoms:\n",
    "            if atom.id == \"CA\":\n",
    "                coord = atom.get_coord()\n",
    "                x.append(coord[0])\n",
    "                y.append(coord[1])\n",
    "                z.append(coord[2])\n",
    "                x_c.append(coord[0])\n",
    "                y_c.append(coord[1])\n",
    "                z_c.append(coord[2])\n",
    "                number += 1\n",
    "        center_c = [np.mean(x_c), np.mean(y_c), np.mean(z_c)]\n",
    "        print(\"atom number is: \",number,\" center of chain is: \",center_c)\n",
    "        for j in range(len(x_c)):\n",
    "            temp_c += np.linalg.norm(np.array([x_c[j],y_c[j],z_c[j]])-np.array(center_c)) \n",
    "        rg_c.append(temp_c/float(len(x_c)))\n",
    "    center = [np.mean(x),np.mean(y),np.mean(z)]\n",
    "    \n",
    "    temp = 0\n",
    "    for i in range(len(x)):\n",
    "        temp += np.linalg.norm(np.array([x[i],y[i],z[i]])-np.array(center)) \n",
    "    rg=temp/float(len(x))\n",
    "    print(\"rg of whole protein: \",rg)\n",
    "    k = 0\n",
    "    for f in rg_c:\n",
    "        k += 1\n",
    "        print(\"rg of the chain \",k,\"is: \",f)\n",
    "    return rg,rg_c,center_c"
   ]
  },
  {
   "cell_type": "code",
   "execution_count": 55,
   "metadata": {},
   "outputs": [],
   "source": [
    "def Radius_Gyration_of_chain(file,chain_name):\n",
    "    handle =  open(file, \"r\")\n",
    "    name = parse_pdb_header(handle)[\"name\"]\n",
    "    handle.close()\n",
    "    parser = PDBParser()\n",
    "    \n",
    "    chain = parser.get_structure(name,file)[0][chain_name]\n",
    "    x = []\n",
    "    y = []\n",
    "    z = []\n",
    "    atoms = chain.get_atoms()\n",
    "    number = 0\n",
    "    for atom in atoms:\n",
    "        if atom.id == \"CA\":\n",
    "            coord = atom.get_coord()\n",
    "            x.append(coord[0])\n",
    "            y.append(coord[1])\n",
    "            z.append(coord[2])\n",
    "            number += 1\n",
    "    print(\"atom number is: \",number)\n",
    "    center = [np.mean(x),np.mean(y),np.mean(z)]\n",
    "    temp = 0\n",
    "    for i in range(len(x)):\n",
    "        temp += np.linalg.norm(np.array([x[i],y[i],z[i]])-np.array(center)) \n",
    "    rg=temp/float(len(x))\n",
    "    print(\"radius of gyration of chain :\",chain_name,\" is \",rg)\n",
    "    \n",
    "    return rg"
   ]
  },
  {
   "cell_type": "code",
   "execution_count": 56,
   "metadata": {},
   "outputs": [
    {
     "name": "stdout",
     "output_type": "stream",
     "text": [
      "atom number is:  141\n",
      "radius of gyration of chain : A  is  13.903505037862358\n"
     ]
    },
    {
     "name": "stderr",
     "output_type": "stream",
     "text": [
      "/Users/zhangxiaoyao/anaconda3/lib/python3.7/site-packages/Bio/PDB/StructureBuilder.py:92: PDBConstructionWarning: WARNING: Chain A is discontinuous at line 4899.\n",
      "  PDBConstructionWarning,\n",
      "/Users/zhangxiaoyao/anaconda3/lib/python3.7/site-packages/Bio/PDB/StructureBuilder.py:92: PDBConstructionWarning: WARNING: Chain B is discontinuous at line 4944.\n",
      "  PDBConstructionWarning,\n",
      "/Users/zhangxiaoyao/anaconda3/lib/python3.7/site-packages/Bio/PDB/StructureBuilder.py:92: PDBConstructionWarning: WARNING: Chain C is discontinuous at line 4989.\n",
      "  PDBConstructionWarning,\n",
      "/Users/zhangxiaoyao/anaconda3/lib/python3.7/site-packages/Bio/PDB/StructureBuilder.py:92: PDBConstructionWarning: WARNING: Chain D is discontinuous at line 5034.\n",
      "  PDBConstructionWarning,\n",
      "/Users/zhangxiaoyao/anaconda3/lib/python3.7/site-packages/Bio/PDB/StructureBuilder.py:92: PDBConstructionWarning: WARNING: Chain A is discontinuous at line 5079.\n",
      "  PDBConstructionWarning,\n",
      "/Users/zhangxiaoyao/anaconda3/lib/python3.7/site-packages/Bio/PDB/StructureBuilder.py:92: PDBConstructionWarning: WARNING: Chain B is discontinuous at line 5126.\n",
      "  PDBConstructionWarning,\n",
      "/Users/zhangxiaoyao/anaconda3/lib/python3.7/site-packages/Bio/PDB/StructureBuilder.py:92: PDBConstructionWarning: WARNING: Chain C is discontinuous at line 5174.\n",
      "  PDBConstructionWarning,\n",
      "/Users/zhangxiaoyao/anaconda3/lib/python3.7/site-packages/Bio/PDB/StructureBuilder.py:92: PDBConstructionWarning: WARNING: Chain D is discontinuous at line 5233.\n",
      "  PDBConstructionWarning,\n"
     ]
    }
   ],
   "source": [
    "rg= Radius_Gyration_of_chain(data_root+\"1buw.pdb\",\"A\")"
   ]
  },
  {
   "cell_type": "code",
   "execution_count": 20,
   "metadata": {},
   "outputs": [
    {
     "data": {
      "text/plain": [
       "22.943958365289788"
      ]
     },
     "execution_count": 20,
     "metadata": {},
     "output_type": "execute_result"
    }
   ],
   "source": []
  },
  {
   "cell_type": "code",
   "execution_count": 60,
   "metadata": {},
   "outputs": [],
   "source": [
    "parser = PDBParser(PERMISSIVE = 1)"
   ]
  },
  {
   "cell_type": "code",
   "execution_count": 14,
   "metadata": {},
   "outputs": [
    {
     "name": "stderr",
     "output_type": "stream",
     "text": [
      "/Users/zhangxiaoyao/anaconda3/lib/python3.7/site-packages/Bio/PDB/StructureBuilder.py:92: PDBConstructionWarning: WARNING: Chain A is discontinuous at line 4899.\n",
      "  PDBConstructionWarning,\n",
      "/Users/zhangxiaoyao/anaconda3/lib/python3.7/site-packages/Bio/PDB/StructureBuilder.py:92: PDBConstructionWarning: WARNING: Chain B is discontinuous at line 4944.\n",
      "  PDBConstructionWarning,\n",
      "/Users/zhangxiaoyao/anaconda3/lib/python3.7/site-packages/Bio/PDB/StructureBuilder.py:92: PDBConstructionWarning: WARNING: Chain C is discontinuous at line 4989.\n",
      "  PDBConstructionWarning,\n",
      "/Users/zhangxiaoyao/anaconda3/lib/python3.7/site-packages/Bio/PDB/StructureBuilder.py:92: PDBConstructionWarning: WARNING: Chain D is discontinuous at line 5034.\n",
      "  PDBConstructionWarning,\n",
      "/Users/zhangxiaoyao/anaconda3/lib/python3.7/site-packages/Bio/PDB/StructureBuilder.py:92: PDBConstructionWarning: WARNING: Chain A is discontinuous at line 5079.\n",
      "  PDBConstructionWarning,\n",
      "/Users/zhangxiaoyao/anaconda3/lib/python3.7/site-packages/Bio/PDB/StructureBuilder.py:92: PDBConstructionWarning: WARNING: Chain B is discontinuous at line 5126.\n",
      "  PDBConstructionWarning,\n",
      "/Users/zhangxiaoyao/anaconda3/lib/python3.7/site-packages/Bio/PDB/StructureBuilder.py:92: PDBConstructionWarning: WARNING: Chain C is discontinuous at line 5174.\n",
      "  PDBConstructionWarning,\n",
      "/Users/zhangxiaoyao/anaconda3/lib/python3.7/site-packages/Bio/PDB/StructureBuilder.py:92: PDBConstructionWarning: WARNING: Chain D is discontinuous at line 5233.\n",
      "  PDBConstructionWarning,\n"
     ]
    }
   ],
   "source": [
    "buw_1=parser.get_structure('1buw',data_root+'1buw.pdb')"
   ]
  },
  {
   "cell_type": "code",
   "execution_count": 29,
   "metadata": {},
   "outputs": [],
   "source": [
    "model = buw_1.get_models()\n",
    "models = list(model) \n",
    "chain = models[0].get_chains()\n",
    "chains = list(chain)"
   ]
  },
  {
   "cell_type": "code",
   "execution_count": 30,
   "metadata": {},
   "outputs": [
    {
     "data": {
      "text/plain": [
       "4"
      ]
     },
     "execution_count": 30,
     "metadata": {},
     "output_type": "execute_result"
    }
   ],
   "source": [
    "len(chains)"
   ]
  },
  {
   "cell_type": "code",
   "execution_count": 32,
   "metadata": {},
   "outputs": [
    {
     "data": {
      "text/plain": [
       "[<Chain id=A>, <Chain id=B>, <Chain id=C>, <Chain id=D>]"
      ]
     },
     "execution_count": 32,
     "metadata": {},
     "output_type": "execute_result"
    }
   ],
   "source": [
    "chains"
   ]
  },
  {
   "cell_type": "code",
   "execution_count": null,
   "metadata": {},
   "outputs": [],
   "source": []
  }
 ],
 "metadata": {
  "kernelspec": {
   "display_name": "Python 3",
   "language": "python",
   "name": "python3"
  },
  "language_info": {
   "codemirror_mode": {
    "name": "ipython",
    "version": 3
   },
   "file_extension": ".py",
   "mimetype": "text/x-python",
   "name": "python",
   "nbconvert_exporter": "python",
   "pygments_lexer": "ipython3",
   "version": "3.7.1"
  }
 },
 "nbformat": 4,
 "nbformat_minor": 4
}
