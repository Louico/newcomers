{
 "cells": [
  {
   "cell_type": "markdown",
   "metadata": {},
   "source": [
    "### 5-fold cv"
   ]
  },
  {
   "cell_type": "code",
   "execution_count": 72,
   "metadata": {},
   "outputs": [],
   "source": [
    "import pandas as pd\n",
    "from sklearn.svm import SVC\n",
    "from sklearn.datasets import load_svmlight_file\n",
    "from sklearn.model_selection import cross_val_score\n",
    "from sklearn.model_selection import train_test_split\n",
    "from sklearn.metrics import confusion_matrix\n",
    "from sklearn.metrics import fbeta_score, make_scorer\n",
    "import numpy as np"
   ]
  },
  {
   "cell_type": "code",
   "execution_count": 73,
   "metadata": {},
   "outputs": [],
   "source": [
    "data_root = \"./datasets/\""
   ]
  },
  {
   "cell_type": "code",
   "execution_count": 74,
   "metadata": {},
   "outputs": [],
   "source": [
    "X, y = load_svmlight_file(data_root+\"disorder.libsvm.dat\")"
   ]
  },
  {
   "cell_type": "code",
   "execution_count": 75,
   "metadata": {},
   "outputs": [],
   "source": [
    "linerSVM = SVC(C=1.0, kernel='linear',  random_state=31390)"
   ]
  },
  {
   "cell_type": "code",
   "execution_count": 76,
   "metadata": {},
   "outputs": [],
   "source": [
    "def tn(y_true,y_pred): return confusion_matrix(y_true, y_pred)[0, 0]\n",
    "def fp(y_true,y_pred): return confusion_matrix(y_true, y_pred)[0, 1]\n",
    "def fn(y_true,y_pred): return confusion_matrix(y_true, y_pred)[1, 0]\n",
    "def tp(y_true,y_pred): return confusion_matrix(y_true, y_pred)[1, 1]\n",
    "def q2(y_true,y_pred): return (tp(y_true, y_pred)+tn(y_true, y_pred))/(tp(y_true, y_pred)+tn(y_true, y_pred)+fn(y_true, y_pred)+fp(y_true, y_pred))"
   ]
  },
  {
   "cell_type": "code",
   "execution_count": 77,
   "metadata": {},
   "outputs": [],
   "source": [
    "scores = cross_val_score(linerSVM, X, y, cv=5, scoring=make_scorer(q2))\n",
    "#5-folf cross validation\n",
    "#todo: Q2 accuracy = TP+TN/TP+TN+FN+FP ?"
   ]
  },
  {
   "cell_type": "code",
   "execution_count": 78,
   "metadata": {},
   "outputs": [
    {
     "name": "stdout",
     "output_type": "stream",
     "text": [
      "Accuracy:0.91(+/-0.07)\n"
     ]
    }
   ],
   "source": [
    "print(\"Accuracy:%0.2f(+/-%0.2f)\" % (scores.mean(), scores.std()*2))"
   ]
  },
  {
   "cell_type": "markdown",
   "metadata": {},
   "source": [
    "### ROC AUC"
   ]
  },
  {
   "cell_type": "code",
   "execution_count": 79,
   "metadata": {},
   "outputs": [],
   "source": [
    "import matplotlib.pyplot as plt\n",
    "from sklearn.metrics import plot_roc_curve \n",
    "from sklearn.metrics import roc_auc_score"
   ]
  },
  {
   "cell_type": "code",
   "execution_count": 80,
   "metadata": {},
   "outputs": [
    {
     "data": {
      "image/png": "[encoded data removed]",
      "text/plain": [
       "<Figure size 432x288 with 1 Axes>"
      ]
     },
     "metadata": {
      "needs_background": "light"
     },
     "output_type": "display_data"
    },
    {
     "name": "stdout",
     "output_type": "stream",
     "text": [
      "auc:  0.895360514801832\n"
     ]
    }
   ],
   "source": [
    "X_train, X_test, y_train, y_test = train_test_split(X, y, test_size=0.5, random_state=31390)\n",
    "linerSVM_ = SVC(C=1.0, kernel='linear',  random_state=31390, probability=True)\n",
    "linerSVM_.fit(X_train, y_train)\n",
    "plot_roc_curve(linerSVM_, X_test, y_test)\n",
    "plt.show()\n",
    "print(\"auc: \", roc_auc_score(y_test, linerSVM_.predict_proba(X_test)[:,1]))"
   ]
  },
  {
   "cell_type": "code",
   "execution_count": 81,
   "metadata": {},
   "outputs": [
    {
     "data": {
      "text/plain": [
       "array([[0.9955353 , 0.0044647 ],\n",
       "       [0.86037819, 0.13962181],\n",
       "       [0.97108923, 0.02891077],\n",
       "       ...,\n",
       "       [0.995663  , 0.004337  ],\n",
       "       [0.95108272, 0.04891728],\n",
       "       [0.99044602, 0.00955398]])"
      ]
     },
     "execution_count": 81,
     "metadata": {},
     "output_type": "execute_result"
    }
   ],
   "source": [
    "linerSVM_.predict_proba(X_test)"
   ]
  },
  {
   "cell_type": "markdown",
   "metadata": {},
   "source": [
    "### GridSearch"
   ]
  },
  {
   "cell_type": "code",
   "execution_count": 82,
   "metadata": {},
   "outputs": [],
   "source": [
    "from sklearn.model_selection import GridSearchCV\n"
   ]
  },
  {
   "cell_type": "code",
   "execution_count": 100,
   "metadata": {},
   "outputs": [
    {
     "data": {
      "text/plain": [
       "GridSearchCV(cv=None, error_score=nan,\n",
       "             estimator=SVC(C=1.0, break_ties=False, cache_size=200,\n",
       "                           class_weight=None, coef0=0.0,\n",
       "                           decision_function_shape='ovr', degree=3,\n",
       "                           gamma='scale', kernel='linear', max_iter=-1,\n",
       "                           probability=False, random_state=31390,\n",
       "                           shrinking=True, tol=0.001, verbose=False),\n",
       "             iid='deprecated', n_jobs=None,\n",
       "             param_grid={'C': [0.001, 0.005, 0.01, 0.05, 0.1, 0.5, 1, 5, 10, 50,\n",
       "                               100]},\n",
       "             pre_dispatch='2*n_jobs', refit=True, return_train_score=False,\n",
       "             scoring='roc_auc', verbose=0)"
      ]
     },
     "execution_count": 100,
     "metadata": {},
     "output_type": "execute_result"
    }
   ],
   "source": [
    "prarm_grid={\"C\" : [0.001,0.005,0.01,0.05,0.1,0.5,1,5,10,50,100]}\n",
    "linerSVM_GS = SVC(kernel='linear',random_state=31390)\n",
    "clf_GS = GridSearchCV(linerSVM_GS, prarm_grid,scoring=\"roc_auc\")\n",
    "clf_GS.fit(X, y)"
   ]
  },
  {
   "cell_type": "code",
   "execution_count": 101,
   "metadata": {},
   "outputs": [
    {
     "name": "stdout",
     "output_type": "stream",
     "text": [
      "best C: 0.005\n",
      "best auc:  0.9633664253000025\n"
     ]
    }
   ],
   "source": [
    "print(\"best C:\",clf_GS.best_params_[\"C\"])\n",
    "print(\"best auc: \", roc_auc_score(y_test, clf_GS.decision_function(X_test)))"
   ]
  },
  {
   "cell_type": "markdown",
   "metadata": {},
   "source": [
    "### with for "
   ]
  },
  {
   "cell_type": "code",
   "execution_count": 96,
   "metadata": {},
   "outputs": [
    {
     "name": "stdout",
     "output_type": "stream",
     "text": [
      "for c =  0.001  auc is:  0.9802226257734733   Test auc is:  0.9338603101092546\n",
      "for c =  0.005  auc is:  0.9802058111380145   Test auc is:  0.9340026354169332\n",
      "for c =  0.01  auc is:  0.9802158999192897   Test auc is:  0.934009032059975\n",
      "for c =  0.05  auc is:  0.9883003766478342   Test auc is:  0.9282856356983854\n",
      "for c =  0.1  auc is:  0.9944410815173527   Test auc is:  0.9167348975257785\n",
      "for c =  0.5  auc is:  0.9991121872477805   Test auc is:  0.8994095898472482\n",
      "for c =  1  auc is:  1.0   Test auc is:  0.895360514801832\n",
      "for c =  5  auc is:  1.0   Test auc is:  0.8945593352608551\n",
      "for c =  10  auc is:  1.0   Test auc is:  0.8945593352608551\n",
      "for c =  50  auc is:  1.0   Test auc is:  0.8945593352608551\n",
      "for c =  100  auc is:  1.0   Test auc is:  0.8945593352608551\n"
     ]
    }
   ],
   "source": [
    "X_train, X_test, y_train, y_test = train_test_split(X, y, test_size=0.5, random_state=31390)\n",
    "best_auc = 0\n",
    "best_c = 0\n",
    "for c in prarm_grid[\"C\"]:\n",
    "    linerSVM_GS_f = SVC(C=c, kernel=\"linear\",probability=True,random_state=31390)\n",
    "    linerSVM_GS_f.fit(X_train, y_train)\n",
    "    y_perdict = linerSVM_GS_f.predict_proba(X_train)\n",
    "    auc = roc_auc_score(y_train, y_perdict[:,1])\n",
    "    y_perdict_test = linerSVM_GS_f.predict_proba(X_test)\n",
    "    auc_test = roc_auc_score(y_test,y_perdict_test[:,1])\n",
    "    print(\"for c = \", c,\" auc is: \", auc,\"  Test auc is: \",auc_test)\n",
    "    if auc_test > best_auc:\n",
    "        best_auc = auc_test\n",
    "        best_c = c\n"
   ]
  },
  {
   "cell_type": "code",
   "execution_count": 97,
   "metadata": {},
   "outputs": [
    {
     "name": "stdout",
     "output_type": "stream",
     "text": [
      "best C: 0.01\n",
      "best auc:  0.934009032059975\n"
     ]
    }
   ],
   "source": [
    "print(\"best C:\",best_c)\n",
    "print(\"best auc: \", best_auc)"
   ]
  },
  {
   "cell_type": "code",
   "execution_count": null,
   "metadata": {},
   "outputs": [],
   "source": []
  }
 ],
 "metadata": {
  "kernelspec": {
   "display_name": "Python 3",
   "language": "python",
   "name": "python3"
  },
  "language_info": {
   "codemirror_mode": {
    "name": "ipython",
    "version": 3
   },
   "file_extension": ".py",
   "mimetype": "text/x-python",
   "name": "python",
   "nbconvert_exporter": "python",
   "pygments_lexer": "ipython3",
   "version": "3.7.1"
  }
 },
 "nbformat": 4,
 "nbformat_minor": 4
}
